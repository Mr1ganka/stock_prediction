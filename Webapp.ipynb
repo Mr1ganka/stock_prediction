{
 "cells": [
  {
   "cell_type": "code",
   "execution_count": null,
   "id": "fd1e304c",
   "metadata": {},
   "outputs": [],
   "source": [
    "#pip install tensorflow"
   ]
  },
  {
   "cell_type": "code",
   "execution_count": 1,
   "id": "1b17e763",
   "metadata": {},
   "outputs": [],
   "source": [
    "import numpy as np\n",
    "import pandas as pd\n",
    "import matplotlib.pyplot as plt\n",
    "#import pandas_datareader.data as data\n",
    "import pandas_datareader.data as web\n",
    "from datetime import datetime, date, timedelta\n",
    "import os.path\n",
    "import yfinance as yf\n",
    "from alpha_vantage.timeseries import TimeSeries"
   ]
  },
  {
   "cell_type": "code",
   "execution_count": 2,
   "id": "20bcac67",
   "metadata": {},
   "outputs": [],
   "source": [
    "def get_historical(quote):\n",
    "        end = datetime.now()\n",
    "        start = datetime(end.year-9,end.month,end.day)\n",
    "        data = yf.download(quote, start=start, end=end)\n",
    "        df = pd.DataFrame(data=data)\n",
    "        df.to_csv(''+quote+'.csv')\n",
    "        if(df.empty):\n",
    "            ts = TimeSeries(key='N6A6QT6IBFJOPJ70',output_format='pandas')\n",
    "            data, meta_data = ts.get_daily_adjusted(symbol='NSE:'+quote, outputsize='full')\n",
    "            #Format df\n",
    "            #Last 2 yrs rows => 502, in ascending order => ::-1\n",
    "            data=data.head(503).iloc[::-1]\n",
    "            data=data.reset_index()\n",
    "            #Keep Required cols only\n",
    "            df=pd.DataFrame()\n",
    "            #df['Date']=data['date']\n",
    "            df['Open']=data['1. open']\n",
    "            df['High']=data['2. high']\n",
    "            df['Low']=data['3. low']\n",
    "            df['Close']=data['4. close']\n",
    "            #df['Adj Close']=data['5. adjusted close']\n",
    "            df['Volume']=data['6. volume']\n",
    "            df.drop(['Adj Close'])\n",
    "            df.to_csv(''+quote+'.csv',index=False)\n",
    "            #df.drop(['Date','Adj Close'], axis =1)\n",
    "        return(start,end)"
   ]
  },
  {
   "cell_type": "code",
   "execution_count": 3,
   "id": "4d4d0a5a",
   "metadata": {},
   "outputs": [
    {
     "name": "stdout",
     "output_type": "stream",
     "text": [
      "[*********************100%***********************]  1 of 1 completed\n"
     ]
    }
   ],
   "source": [
    "ticker='FB'\n",
    "start,end=get_historical(ticker)"
   ]
  },
  {
   "cell_type": "code",
   "execution_count": 4,
   "id": "4b741eb2",
   "metadata": {},
   "outputs": [
    {
     "data": {
      "text/plain": [
       "datetime.date(2013, 5, 31)"
      ]
     },
     "execution_count": 4,
     "metadata": {},
     "output_type": "execute_result"
    }
   ],
   "source": [
    "start.date()"
   ]
  },
  {
   "cell_type": "code",
   "execution_count": 5,
   "id": "c4a64fd7",
   "metadata": {},
   "outputs": [
    {
     "data": {
      "text/html": [
       "<div>\n",
       "<style scoped>\n",
       "    .dataframe tbody tr th:only-of-type {\n",
       "        vertical-align: middle;\n",
       "    }\n",
       "\n",
       "    .dataframe tbody tr th {\n",
       "        vertical-align: top;\n",
       "    }\n",
       "\n",
       "    .dataframe thead th {\n",
       "        text-align: right;\n",
       "    }\n",
       "</style>\n",
       "<table border=\"1\" class=\"dataframe\">\n",
       "  <thead>\n",
       "    <tr style=\"text-align: right;\">\n",
       "      <th></th>\n",
       "      <th>Date</th>\n",
       "      <th>Open</th>\n",
       "      <th>High</th>\n",
       "      <th>Low</th>\n",
       "      <th>Close</th>\n",
       "      <th>Adj Close</th>\n",
       "      <th>Volume</th>\n",
       "    </tr>\n",
       "  </thead>\n",
       "  <tbody>\n",
       "    <tr>\n",
       "      <th>0</th>\n",
       "      <td>2013-05-30</td>\n",
       "      <td>24.129999</td>\n",
       "      <td>24.780001</td>\n",
       "      <td>23.930000</td>\n",
       "      <td>24.549999</td>\n",
       "      <td>24.549999</td>\n",
       "      <td>60733200</td>\n",
       "    </tr>\n",
       "    <tr>\n",
       "      <th>1</th>\n",
       "      <td>2013-05-31</td>\n",
       "      <td>24.629999</td>\n",
       "      <td>24.950001</td>\n",
       "      <td>24.270000</td>\n",
       "      <td>24.350000</td>\n",
       "      <td>24.350000</td>\n",
       "      <td>35925000</td>\n",
       "    </tr>\n",
       "    <tr>\n",
       "      <th>2</th>\n",
       "      <td>2013-06-03</td>\n",
       "      <td>24.270000</td>\n",
       "      <td>24.320000</td>\n",
       "      <td>23.709999</td>\n",
       "      <td>23.850000</td>\n",
       "      <td>23.850000</td>\n",
       "      <td>35733800</td>\n",
       "    </tr>\n",
       "    <tr>\n",
       "      <th>3</th>\n",
       "      <td>2013-06-04</td>\n",
       "      <td>23.889999</td>\n",
       "      <td>23.930000</td>\n",
       "      <td>23.320000</td>\n",
       "      <td>23.520000</td>\n",
       "      <td>23.520000</td>\n",
       "      <td>34760800</td>\n",
       "    </tr>\n",
       "    <tr>\n",
       "      <th>4</th>\n",
       "      <td>2013-06-05</td>\n",
       "      <td>23.350000</td>\n",
       "      <td>23.709999</td>\n",
       "      <td>22.790001</td>\n",
       "      <td>22.900000</td>\n",
       "      <td>22.900000</td>\n",
       "      <td>53819700</td>\n",
       "    </tr>\n",
       "  </tbody>\n",
       "</table>\n",
       "</div>"
      ],
      "text/plain": [
       "         Date       Open       High        Low      Close  Adj Close    Volume\n",
       "0  2013-05-30  24.129999  24.780001  23.930000  24.549999  24.549999  60733200\n",
       "1  2013-05-31  24.629999  24.950001  24.270000  24.350000  24.350000  35925000\n",
       "2  2013-06-03  24.270000  24.320000  23.709999  23.850000  23.850000  35733800\n",
       "3  2013-06-04  23.889999  23.930000  23.320000  23.520000  23.520000  34760800\n",
       "4  2013-06-05  23.350000  23.709999  22.790001  22.900000  22.900000  53819700"
      ]
     },
     "execution_count": 5,
     "metadata": {},
     "output_type": "execute_result"
    }
   ],
   "source": [
    "df = pd.read_csv(ticker+'.csv')\n",
    "df.head()"
   ]
  },
  {
   "cell_type": "code",
   "execution_count": 6,
   "id": "2fbf49de",
   "metadata": {},
   "outputs": [
    {
     "data": {
      "text/html": [
       "<div>\n",
       "<style scoped>\n",
       "    .dataframe tbody tr th:only-of-type {\n",
       "        vertical-align: middle;\n",
       "    }\n",
       "\n",
       "    .dataframe tbody tr th {\n",
       "        vertical-align: top;\n",
       "    }\n",
       "\n",
       "    .dataframe thead th {\n",
       "        text-align: right;\n",
       "    }\n",
       "</style>\n",
       "<table border=\"1\" class=\"dataframe\">\n",
       "  <thead>\n",
       "    <tr style=\"text-align: right;\">\n",
       "      <th></th>\n",
       "      <th>Date</th>\n",
       "      <th>Open</th>\n",
       "      <th>High</th>\n",
       "      <th>Low</th>\n",
       "      <th>Close</th>\n",
       "      <th>Adj Close</th>\n",
       "      <th>Volume</th>\n",
       "    </tr>\n",
       "  </thead>\n",
       "  <tbody>\n",
       "    <tr>\n",
       "      <th>2262</th>\n",
       "      <td>2022-05-23</td>\n",
       "      <td>195.190002</td>\n",
       "      <td>196.990005</td>\n",
       "      <td>191.240005</td>\n",
       "      <td>196.229996</td>\n",
       "      <td>196.229996</td>\n",
       "      <td>25059200</td>\n",
       "    </tr>\n",
       "    <tr>\n",
       "      <th>2263</th>\n",
       "      <td>2022-05-24</td>\n",
       "      <td>180.550003</td>\n",
       "      <td>183.679993</td>\n",
       "      <td>176.110001</td>\n",
       "      <td>181.279999</td>\n",
       "      <td>181.279999</td>\n",
       "      <td>50406300</td>\n",
       "    </tr>\n",
       "    <tr>\n",
       "      <th>2264</th>\n",
       "      <td>2022-05-25</td>\n",
       "      <td>180.399994</td>\n",
       "      <td>185.449997</td>\n",
       "      <td>179.320007</td>\n",
       "      <td>183.830002</td>\n",
       "      <td>183.830002</td>\n",
       "      <td>28030200</td>\n",
       "    </tr>\n",
       "    <tr>\n",
       "      <th>2265</th>\n",
       "      <td>2022-05-26</td>\n",
       "      <td>182.880005</td>\n",
       "      <td>192.830002</td>\n",
       "      <td>182.259995</td>\n",
       "      <td>191.630005</td>\n",
       "      <td>191.630005</td>\n",
       "      <td>23056500</td>\n",
       "    </tr>\n",
       "    <tr>\n",
       "      <th>2266</th>\n",
       "      <td>2022-05-27</td>\n",
       "      <td>191.360001</td>\n",
       "      <td>195.330002</td>\n",
       "      <td>189.800003</td>\n",
       "      <td>195.130005</td>\n",
       "      <td>195.130005</td>\n",
       "      <td>22548900</td>\n",
       "    </tr>\n",
       "  </tbody>\n",
       "</table>\n",
       "</div>"
      ],
      "text/plain": [
       "            Date        Open        High         Low       Close   Adj Close  \\\n",
       "2262  2022-05-23  195.190002  196.990005  191.240005  196.229996  196.229996   \n",
       "2263  2022-05-24  180.550003  183.679993  176.110001  181.279999  181.279999   \n",
       "2264  2022-05-25  180.399994  185.449997  179.320007  183.830002  183.830002   \n",
       "2265  2022-05-26  182.880005  192.830002  182.259995  191.630005  191.630005   \n",
       "2266  2022-05-27  191.360001  195.330002  189.800003  195.130005  195.130005   \n",
       "\n",
       "        Volume  \n",
       "2262  25059200  \n",
       "2263  50406300  \n",
       "2264  28030200  \n",
       "2265  23056500  \n",
       "2266  22548900  "
      ]
     },
     "execution_count": 6,
     "metadata": {},
     "output_type": "execute_result"
    }
   ],
   "source": [
    "df.tail()"
   ]
  },
  {
   "cell_type": "code",
   "execution_count": 7,
   "id": "51eab3b6",
   "metadata": {},
   "outputs": [
    {
     "data": {
      "text/plain": [
       "[<matplotlib.lines.Line2D at 0x1e3c937f910>]"
      ]
     },
     "execution_count": 7,
     "metadata": {},
     "output_type": "execute_result"
    },
    {
     "data": {
      "image/png": "[encoded data removed]",
      "text/plain": [
       "<Figure size 432x288 with 1 Axes>"
      ]
     },
     "metadata": {
      "needs_background": "light"
     },
     "output_type": "display_data"
    }
   ],
   "source": [
    "plt.plot(df.Close)"
   ]
  },
  {
   "cell_type": "code",
   "execution_count": 8,
   "id": "141744c1",
   "metadata": {},
   "outputs": [],
   "source": [
    "ma100=df.Close.rolling(100).mean() #created a moving average of ma100\n",
    "#ma100\n",
    "ma200=df.Close.rolling(200).mean() #created a moving average of ma200\n",
    "#ma200"
   ]
  },
  {
   "cell_type": "code",
   "execution_count": 9,
   "id": "64278eca",
   "metadata": {},
   "outputs": [
    {
     "data": {
      "text/plain": [
       "[<matplotlib.lines.Line2D at 0x1e3c951d9d0>]"
      ]
     },
     "execution_count": 9,
     "metadata": {},
     "output_type": "execute_result"
    },
    {
     "data": {
      "image/png": "[encoded data removed]",
      "text/plain": [
       "<Figure size 864x432 with 1 Axes>"
      ]
     },
     "metadata": {
      "needs_background": "light"
     },
     "output_type": "display_data"
    }
   ],
   "source": [
    "#plotting both moving average and the original Close\n",
    "plt.figure(figsize=(12,6))\n",
    "plt.plot(df.Close)\n",
    "plt.plot(ma100,'r')\n",
    "plt.plot(ma200,'g')"
   ]
  },
  {
   "cell_type": "code",
   "execution_count": 10,
   "id": "d49abb2d",
   "metadata": {},
   "outputs": [
    {
     "data": {
      "text/plain": [
       "(2267, 7)"
      ]
     },
     "execution_count": 10,
     "metadata": {},
     "output_type": "execute_result"
    }
   ],
   "source": [
    "df.shape"
   ]
  },
  {
   "cell_type": "code",
   "execution_count": 11,
   "id": "82b39b85",
   "metadata": {},
   "outputs": [],
   "source": [
    "#Splitting into Training and testing\n",
    "end_limit=len(df)\n",
    "limit=int(end_limit*0.7)\n",
    "data_training = pd.DataFrame(df['Close'][0:limit])\n",
    "data_testing =  pd.DataFrame(df['Close'][limit:end_limit])"
   ]
  },
  {
   "cell_type": "code",
   "execution_count": 12,
   "id": "5842b580",
   "metadata": {},
   "outputs": [],
   "source": [
    "#data_training.head()\n",
    "#data_testing.head()\n",
    "#Checking out the data"
   ]
  },
  {
   "cell_type": "code",
   "execution_count": 13,
   "id": "a363705f",
   "metadata": {},
   "outputs": [],
   "source": [
    "#LSTM model uses Data Range between 0 and 1\n",
    "from sklearn.preprocessing import MinMaxScaler\n",
    "scaler = MinMaxScaler(feature_range=(0,1))\n",
    "#created an Object to normalize data between the two"
   ]
  },
  {
   "cell_type": "code",
   "execution_count": 15,
   "id": "4d81d20b",
   "metadata": {},
   "outputs": [
    {
     "data": {
      "text/plain": [
       "(1586, 1)"
      ]
     },
     "execution_count": 15,
     "metadata": {},
     "output_type": "execute_result"
    }
   ],
   "source": [
    "data_testing_array=scaler.fit_transform(data_testing)\n",
    "data_training_array=scaler.fit_transform(data_training)\n",
    "data_training_array.shape\n",
    "#transforming the columns to feature range"
   ]
  },
  {
   "cell_type": "code",
   "execution_count": 16,
   "id": "0c31e4af",
   "metadata": {},
   "outputs": [],
   "source": [
    "x_train=[]\n",
    "y_train=[]\n",
    "\n",
    "for i in range(100,data_training_array.shape[0]):\n",
    "    x_train.append(data_training_array[i-100:i])\n",
    "    y_train.append(data_training_array[i,0])\n",
    "    \n",
    "x_train,y_train = np.array(x_train), np.array(y_train)\n",
    "#print(x_train.shape)\n",
    "#print(y_train.shape)"
   ]
  },
  {
   "cell_type": "code",
   "execution_count": 17,
   "id": "cd5f5c40",
   "metadata": {},
   "outputs": [],
   "source": [
    "from keras.layers import Dense, Dropout, LSTM\n",
    "from keras.models import Sequential\n",
    "import keras"
   ]
  },
  {
   "cell_type": "code",
   "execution_count": 18,
   "id": "5a61fdc6",
   "metadata": {},
   "outputs": [],
   "source": [
    "model = Sequential()\n",
    "model.add(LSTM(units=50, activation='relu', return_sequences=True,\n",
    "              input_shape =(x_train.shape[1],1)))\n",
    "model.add(Dropout(0.2))\n",
    "\n",
    "model.add(LSTM(units=60, activation='relu', return_sequences=True))\n",
    "model.add(Dropout(0.3))\n",
    "\n",
    "model.add(LSTM(units=80, activation='relu', return_sequences=True))\n",
    "model.add(Dropout(0.4))\n",
    "\n",
    "model.add(LSTM(units=120, activation='relu'))\n",
    "model.add(Dropout(0.5))\n",
    "\n",
    "model.add(Dense(units=1))"
   ]
  },
  {
   "cell_type": "code",
   "execution_count": null,
   "id": "491ae709",
   "metadata": {},
   "outputs": [],
   "source": [
    "#model.summary()"
   ]
  },
  {
   "cell_type": "markdown",
   "id": "553059f6",
   "metadata": {},
   "source": [
    "<h2>Compiling the model</h2>"
   ]
  },
  {
   "cell_type": "markdown",
   "id": "016df6c3",
   "metadata": {},
   "source": [
    "<p>Skip compiling the model over and over, use the saved model state insted</p>"
   ]
  },
  {
   "cell_type": "code",
   "execution_count": 19,
   "id": "a43912fb",
   "metadata": {},
   "outputs": [
    {
     "name": "stdout",
     "output_type": "stream",
     "text": [
      "Epoch 1/50\n",
      "47/47 [==============================] - 12s 181ms/step - loss: 0.0731\n",
      "Epoch 2/50\n",
      "47/47 [==============================] - 8s 168ms/step - loss: 0.0145\n",
      "Epoch 3/50\n",
      "47/47 [==============================] - 8s 167ms/step - loss: 0.0115\n",
      "Epoch 4/50\n",
      "47/47 [==============================] - 8s 167ms/step - loss: 0.0099\n",
      "Epoch 5/50\n",
      "47/47 [==============================] - 8s 174ms/step - loss: 0.0093\n",
      "Epoch 6/50\n",
      "47/47 [==============================] - 8s 170ms/step - loss: 0.0093\n",
      "Epoch 7/50\n",
      "47/47 [==============================] - 8s 170ms/step - loss: 0.0083\n",
      "Epoch 8/50\n",
      "47/47 [==============================] - 8s 169ms/step - loss: 0.0079\n",
      "Epoch 9/50\n",
      "47/47 [==============================] - 8s 169ms/step - loss: 0.0073\n",
      "Epoch 10/50\n",
      "47/47 [==============================] - 8s 169ms/step - loss: 0.0075\n",
      "Epoch 11/50\n",
      "47/47 [==============================] - 8s 172ms/step - loss: 0.0076\n",
      "Epoch 12/50\n",
      "47/47 [==============================] - 8s 170ms/step - loss: 0.0081\n",
      "Epoch 13/50\n",
      "47/47 [==============================] - 8s 171ms/step - loss: 0.0074\n",
      "Epoch 14/50\n",
      "47/47 [==============================] - 8s 170ms/step - loss: 0.0064\n",
      "Epoch 15/50\n",
      "47/47 [==============================] - 8s 176ms/step - loss: 0.0063\n",
      "Epoch 16/50\n",
      "47/47 [==============================] - 8s 171ms/step - loss: 0.0069\n",
      "Epoch 17/50\n",
      "47/47 [==============================] - 8s 172ms/step - loss: 0.0059\n",
      "Epoch 18/50\n",
      "47/47 [==============================] - 8s 173ms/step - loss: 0.0062\n",
      "Epoch 19/50\n",
      "47/47 [==============================] - 9s 185ms/step - loss: 0.0065\n",
      "Epoch 20/50\n",
      "47/47 [==============================] - 9s 183ms/step - loss: 0.0068\n",
      "Epoch 21/50\n",
      "47/47 [==============================] - 9s 187ms/step - loss: 0.0052\n",
      "Epoch 22/50\n",
      "47/47 [==============================] - 9s 183ms/step - loss: 0.0057\n",
      "Epoch 23/50\n",
      "47/47 [==============================] - 9s 186ms/step - loss: 0.0063\n",
      "Epoch 24/50\n",
      "47/47 [==============================] - 9s 188ms/step - loss: 0.0060\n",
      "Epoch 25/50\n",
      "47/47 [==============================] - 9s 191ms/step - loss: 0.0050\n",
      "Epoch 26/50\n",
      "47/47 [==============================] - 9s 186ms/step - loss: 0.0054\n",
      "Epoch 27/50\n",
      "47/47 [==============================] - 9s 182ms/step - loss: 0.0046\n",
      "Epoch 28/50\n",
      "47/47 [==============================] - 9s 197ms/step - loss: 0.0048\n",
      "Epoch 29/50\n",
      "47/47 [==============================] - 9s 192ms/step - loss: 0.0049\n",
      "Epoch 30/50\n",
      "47/47 [==============================] - 9s 199ms/step - loss: 0.0045\n",
      "Epoch 31/50\n",
      "47/47 [==============================] - 9s 191ms/step - loss: 0.0041\n",
      "Epoch 32/50\n",
      "47/47 [==============================] - 9s 185ms/step - loss: 0.0047\n",
      "Epoch 33/50\n",
      "47/47 [==============================] - 9s 185ms/step - loss: 0.0045\n",
      "Epoch 34/50\n",
      "47/47 [==============================] - 9s 191ms/step - loss: 0.0046\n",
      "Epoch 35/50\n",
      "47/47 [==============================] - 9s 191ms/step - loss: 0.0044\n",
      "Epoch 36/50\n",
      "47/47 [==============================] - 9s 185ms/step - loss: 0.0044\n",
      "Epoch 37/50\n",
      "47/47 [==============================] - 9s 186ms/step - loss: 0.0045\n",
      "Epoch 38/50\n",
      "47/47 [==============================] - 9s 186ms/step - loss: 0.0050\n",
      "Epoch 39/50\n",
      "47/47 [==============================] - 9s 191ms/step - loss: 0.0042\n",
      "Epoch 40/50\n",
      "47/47 [==============================] - 9s 194ms/step - loss: 0.0039\n",
      "Epoch 41/50\n",
      "47/47 [==============================] - 9s 198ms/step - loss: 0.0040\n",
      "Epoch 42/50\n",
      "47/47 [==============================] - 9s 200ms/step - loss: 0.0043\n",
      "Epoch 43/50\n",
      "47/47 [==============================] - 8s 177ms/step - loss: 0.0041\n",
      "Epoch 44/50\n",
      "47/47 [==============================] - 8s 179ms/step - loss: 0.0043\n",
      "Epoch 45/50\n",
      "47/47 [==============================] - 8s 177ms/step - loss: 0.0039\n",
      "Epoch 46/50\n",
      "47/47 [==============================] - 8s 177ms/step - loss: 0.0041\n",
      "Epoch 47/50\n",
      "47/47 [==============================] - 8s 178ms/step - loss: 0.0043\n",
      "Epoch 48/50\n",
      "47/47 [==============================] - 9s 185ms/step - loss: 0.0041\n",
      "Epoch 49/50\n",
      "47/47 [==============================] - 9s 180ms/step - loss: 0.0040\n",
      "Epoch 50/50\n",
      "47/47 [==============================] - 8s 180ms/step - loss: 0.0046\n"
     ]
    },
    {
     "data": {
      "text/plain": [
       "<keras.callbacks.History at 0x1e3d50ed2b0>"
      ]
     },
     "execution_count": 19,
     "metadata": {},
     "output_type": "execute_result"
    }
   ],
   "source": [
    "model.compile(optimizer='adam', loss='mean_squared_error')\n",
    "model.fit(x_train,y_train, epochs=50)"
   ]
  },
  {
   "cell_type": "code",
   "execution_count": 20,
   "id": "efa407a4",
   "metadata": {},
   "outputs": [],
   "source": [
    "model.save('keras_model.h5') #saving the model to avoid re-compiling everytime"
   ]
  },
  {
   "cell_type": "markdown",
   "id": "a54cbfe7",
   "metadata": {},
   "source": [
    "<h1>Use the saved model instead of re-compiling it everytime</h1>"
   ]
  },
  {
   "cell_type": "code",
   "execution_count": 38,
   "id": "f673b5cc",
   "metadata": {},
   "outputs": [],
   "source": [
    "model=keras.models.load_model('keras_model.h5')"
   ]
  },
  {
   "cell_type": "code",
   "execution_count": 39,
   "id": "5d61b88c",
   "metadata": {},
   "outputs": [
    {
     "data": {
      "text/html": [
       "<div>\n",
       "<style scoped>\n",
       "    .dataframe tbody tr th:only-of-type {\n",
       "        vertical-align: middle;\n",
       "    }\n",
       "\n",
       "    .dataframe tbody tr th {\n",
       "        vertical-align: top;\n",
       "    }\n",
       "\n",
       "    .dataframe thead th {\n",
       "        text-align: right;\n",
       "    }\n",
       "</style>\n",
       "<table border=\"1\" class=\"dataframe\">\n",
       "  <thead>\n",
       "    <tr style=\"text-align: right;\">\n",
       "      <th></th>\n",
       "      <th>Close</th>\n",
       "    </tr>\n",
       "  </thead>\n",
       "  <tbody>\n",
       "    <tr>\n",
       "      <th>1586</th>\n",
       "      <td>188.080002</td>\n",
       "    </tr>\n",
       "    <tr>\n",
       "      <th>1587</th>\n",
       "      <td>188.139999</td>\n",
       "    </tr>\n",
       "    <tr>\n",
       "      <th>1588</th>\n",
       "      <td>190.139999</td>\n",
       "    </tr>\n",
       "    <tr>\n",
       "      <th>1589</th>\n",
       "      <td>189.929993</td>\n",
       "    </tr>\n",
       "    <tr>\n",
       "      <th>1590</th>\n",
       "      <td>186.820007</td>\n",
       "    </tr>\n",
       "  </tbody>\n",
       "</table>\n",
       "</div>"
      ],
      "text/plain": [
       "           Close\n",
       "1586  188.080002\n",
       "1587  188.139999\n",
       "1588  190.139999\n",
       "1589  189.929993\n",
       "1590  186.820007"
      ]
     },
     "execution_count": 39,
     "metadata": {},
     "output_type": "execute_result"
    }
   ],
   "source": [
    "data_testing.head()"
   ]
  },
  {
   "cell_type": "code",
   "execution_count": 40,
   "id": "afed45ce",
   "metadata": {},
   "outputs": [],
   "source": [
    "past_100_days=data_training.tail(100)"
   ]
  },
  {
   "cell_type": "code",
   "execution_count": 41,
   "id": "be1d2eb3",
   "metadata": {},
   "outputs": [
    {
     "name": "stderr",
     "output_type": "stream",
     "text": [
      "C:\\Users\\User\\AppData\\Local\\Temp\\ipykernel_18388\\351597942.py:1: FutureWarning: The frame.append method is deprecated and will be removed from pandas in a future version. Use pandas.concat instead.\n",
      "  final_df=past_100_days.append(data_testing, ignore_index=True)\n"
     ]
    }
   ],
   "source": [
    "final_df=past_100_days.append(data_testing, ignore_index=True)"
   ]
  },
  {
   "cell_type": "code",
   "execution_count": 42,
   "id": "aa4508b2",
   "metadata": {},
   "outputs": [
    {
     "data": {
      "text/html": [
       "<div>\n",
       "<style scoped>\n",
       "    .dataframe tbody tr th:only-of-type {\n",
       "        vertical-align: middle;\n",
       "    }\n",
       "\n",
       "    .dataframe tbody tr th {\n",
       "        vertical-align: top;\n",
       "    }\n",
       "\n",
       "    .dataframe thead th {\n",
       "        text-align: right;\n",
       "    }\n",
       "</style>\n",
       "<table border=\"1\" class=\"dataframe\">\n",
       "  <thead>\n",
       "    <tr style=\"text-align: right;\">\n",
       "      <th></th>\n",
       "      <th>Close</th>\n",
       "    </tr>\n",
       "  </thead>\n",
       "  <tbody>\n",
       "    <tr>\n",
       "      <th>0</th>\n",
       "      <td>193.259995</td>\n",
       "    </tr>\n",
       "    <tr>\n",
       "      <th>1</th>\n",
       "      <td>191.490005</td>\n",
       "    </tr>\n",
       "    <tr>\n",
       "      <th>2</th>\n",
       "      <td>194.779999</td>\n",
       "    </tr>\n",
       "    <tr>\n",
       "      <th>3</th>\n",
       "      <td>193.399994</td>\n",
       "    </tr>\n",
       "    <tr>\n",
       "      <th>4</th>\n",
       "      <td>193.029999</td>\n",
       "    </tr>\n",
       "  </tbody>\n",
       "</table>\n",
       "</div>"
      ],
      "text/plain": [
       "        Close\n",
       "0  193.259995\n",
       "1  191.490005\n",
       "2  194.779999\n",
       "3  193.399994\n",
       "4  193.029999"
      ]
     },
     "execution_count": 42,
     "metadata": {},
     "output_type": "execute_result"
    }
   ],
   "source": [
    "final_df.head()"
   ]
  },
  {
   "cell_type": "code",
   "execution_count": 43,
   "id": "43c22275",
   "metadata": {},
   "outputs": [
    {
     "data": {
      "text/plain": [
       "(781, 1)"
      ]
     },
     "execution_count": 43,
     "metadata": {},
     "output_type": "execute_result"
    }
   ],
   "source": [
    "#scaling down the testing data\n",
    "input_data =scaler.fit_transform(final_df)\n",
    "input_data.shape"
   ]
  },
  {
   "cell_type": "code",
   "execution_count": 44,
   "id": "050c9bd1",
   "metadata": {},
   "outputs": [],
   "source": [
    "x_test=[] \n",
    "y_test = []\n",
    "\n",
    "for i in range(100, input_data.shape[0]):\n",
    "    x_test.append(input_data[i-100: i])\n",
    "    y_test.append(input_data[i,0])\n",
    "    \n",
    "    \n",
    "################\n",
    "#x_train=[]\n",
    "#y_train=[]\n",
    "\n",
    "#for i in range(100,data_training_array.shape[0]):\n",
    "#    x_train.append(data_training_array[i-100:i])\n",
    " #   y_train.append(data_training_array[i,0])\n",
    "    \n",
    "#x_train,y_train = np.array(x_train), np.array(y_train)\n",
    "#print(x_train.shape)\n",
    "#print(y_train.shape)"
   ]
  },
  {
   "cell_type": "code",
   "execution_count": 45,
   "id": "1efef32e",
   "metadata": {},
   "outputs": [
    {
     "name": "stdout",
     "output_type": "stream",
     "text": [
      "(681, 100, 1)\n",
      "(681,)\n"
     ]
    }
   ],
   "source": [
    "x_test,y_test = np.array(x_test), np.array(y_test)\n",
    "print(x_test.shape)\n",
    "print(y_test.shape)"
   ]
  },
  {
   "cell_type": "code",
   "execution_count": 46,
   "id": "0e1c88c8",
   "metadata": {},
   "outputs": [
    {
     "name": "stdout",
     "output_type": "stream",
     "text": [
      "22/22 [==============================] - 2s 54ms/step\n"
     ]
    }
   ],
   "source": [
    "#Making Predictions\n",
    "y_predicted = model.predict(x_test)"
   ]
  },
  {
   "cell_type": "code",
   "execution_count": 47,
   "id": "ed03f55d",
   "metadata": {},
   "outputs": [
    {
     "data": {
      "text/plain": [
       "(681, 1)"
      ]
     },
     "execution_count": 47,
     "metadata": {},
     "output_type": "execute_result"
    }
   ],
   "source": [
    "y_predicted.shape\n",
    "#checking the shape of predicted arrays"
   ]
  },
  {
   "cell_type": "code",
   "execution_count": 48,
   "id": "012bf8fc",
   "metadata": {},
   "outputs": [
    {
     "data": {
      "text/plain": [
       "0.004234238081691668"
      ]
     },
     "execution_count": 48,
     "metadata": {},
     "output_type": "execute_result"
    }
   ],
   "source": [
    "#the scale factor for the \n",
    "#print(scaler.scale_)\n",
    "scale=scaler.scale_[0]\n",
    "scale"
   ]
  },
  {
   "cell_type": "code",
   "execution_count": 49,
   "id": "9fcdace2",
   "metadata": {},
   "outputs": [],
   "source": [
    "scale_factor=1/scale\n",
    "y_predicted=y_predicted*scale_factor\n",
    "#print(y_test)\n",
    "y_test=y_test*scale_factor\n",
    "#y_test"
   ]
  },
  {
   "cell_type": "code",
   "execution_count": 50,
   "id": "3de6f848",
   "metadata": {},
   "outputs": [
    {
     "data": {
      "image/png": "[encoded data removed]",
      "text/plain": [
       "<Figure size 864x432 with 1 Axes>"
      ]
     },
     "metadata": {
      "needs_background": "light"
     },
     "output_type": "display_data"
    }
   ],
   "source": [
    "plt.figure(figsize=(12,6))\n",
    "plt.plot(y_predicted,'r', label='Predicted Price')\n",
    "plt.plot(y_test,'g', label='Original Price')\n",
    "plt.xlabel('Time')\n",
    "plt.ylabel('Price')\n",
    "plt.legend()\n",
    "plt.show()"
   ]
  },
  {
   "cell_type": "markdown",
   "id": "4c12e401",
   "metadata": {},
   "source": [
    "<h3>Testing out the model</h3>"
   ]
  },
  {
   "cell_type": "code",
   "execution_count": 51,
   "id": "0c651617",
   "metadata": {},
   "outputs": [],
   "source": [
    "#setting end to three days back\n",
    "today = date.today()\n",
    "day_before_yesterday = date.today() - timedelta(days=3)\n",
    "#end"
   ]
  },
  {
   "cell_type": "code",
   "execution_count": 52,
   "id": "e1a87a65",
   "metadata": {},
   "outputs": [
    {
     "name": "stdout",
     "output_type": "stream",
     "text": [
      "[*********************100%***********************]  1 of 1 completed\n"
     ]
    }
   ],
   "source": [
    "#end = datetime.now()\n",
    "#getting data worth of last 2 years\n",
    "start = datetime(end.year-2,end.month,end.day)\n",
    "data = yf.download(ticker, start=start, end=day_before_yesterday)\n",
    "#getting the data and filtering it upon just the Closing price of the day\n",
    "data=data.filter(['Close'])\n",
    "\n",
    "#filtering the data based upon just the last 60 days\n",
    "last_60_days = data[-60:].values\n",
    "#last_60_days"
   ]
  },
  {
   "cell_type": "code",
   "execution_count": 53,
   "id": "0adc9eee",
   "metadata": {},
   "outputs": [
    {
     "name": "stderr",
     "output_type": "stream",
     "text": [
      "C:\\Users\\User\\Desktop\\Udemy\\env\\lib\\site-packages\\sklearn\\base.py:450: UserWarning: X does not have valid feature names, but MinMaxScaler was fitted with feature names\n",
      "  warnings.warn(\n"
     ]
    }
   ],
   "source": [
    "#scaling the last 60days value\n",
    "last_60_days_scaled = scaler.transform(last_60_days)\n",
    "X_test=[]\n",
    "X_test.append(last_60_days_scaled)\n",
    "X_test = np.array(X_test)\n",
    "X_test = np.reshape(X_test, (X_test.shape[0],X_test.shape[1],1))\n",
    "#print(last_60_days_scaled)"
   ]
  },
  {
   "cell_type": "code",
   "execution_count": 54,
   "id": "73ee3fa1",
   "metadata": {},
   "outputs": [],
   "source": [
    "#scaler.scale_[0]\n",
    "#last_60_days_scaled=last_60_days_scaled*(1/scaler.scale_[0])\n",
    "#last_60_days_scaled=scaler.inverse_transform(last_60_days_scaled)\n",
    "#last_60_days"
   ]
  },
  {
   "cell_type": "code",
   "execution_count": 60,
   "id": "336137f9",
   "metadata": {},
   "outputs": [
    {
     "name": "stdout",
     "output_type": "stream",
     "text": [
      "1/1 [==============================] - 0s 29ms/step\n",
      "202.58127\n"
     ]
    }
   ],
   "source": [
    "#Get the predicted scaled price\n",
    "pred_price = model.predict(X_test)#getting the original price\n",
    "pred_price = scaler.inverse_transform(pred_price)\n",
    "print(pred_price[0][0])"
   ]
  },
  {
   "cell_type": "code",
   "execution_count": 57,
   "id": "1a2404f6",
   "metadata": {},
   "outputs": [],
   "source": [
    "#setting end to two days back\n",
    "today = date.today()\n",
    "day_before_yesterday = date.today() - timedelta(days=2)\n",
    "#end\n",
    "#Yesterdays actual price\n",
    "yesterday = date.today() - timedelta(days=1)"
   ]
  },
  {
   "cell_type": "code",
   "execution_count": 66,
   "id": "16444c1a",
   "metadata": {},
   "outputs": [
    {
     "name": "stdout",
     "output_type": "stream",
     "text": [
      "[*********************100%***********************]  1 of 1 completed\n"
     ]
    },
    {
     "data": {
      "text/plain": [
       "195.1300048828125"
      ]
     },
     "execution_count": 66,
     "metadata": {},
     "output_type": "execute_result"
    }
   ],
   "source": [
    " \n",
    "data = yf.download(ticker, start=day_before_yesterday, end=yesterday)\n",
    "data[\"Close\"][0]\n",
    "\n",
    "#data=data.filter(['Close'])\n",
    "#print(data['Close'])"
   ]
  },
  {
   "cell_type": "code",
   "execution_count": 63,
   "id": "1510074c",
   "metadata": {},
   "outputs": [
    {
     "ename": "KeyError",
     "evalue": "0",
     "output_type": "error",
     "traceback": [
      "\u001b[1;31m---------------------------------------------------------------------------\u001b[0m",
      "\u001b[1;31mKeyError\u001b[0m                                  Traceback (most recent call last)",
      "File \u001b[1;32m~\\Desktop\\Udemy\\env\\lib\\site-packages\\pandas\\core\\indexes\\base.py:3621\u001b[0m, in \u001b[0;36mIndex.get_loc\u001b[1;34m(self, key, method, tolerance)\u001b[0m\n\u001b[0;32m   3620\u001b[0m \u001b[38;5;28;01mtry\u001b[39;00m:\n\u001b[1;32m-> 3621\u001b[0m     \u001b[38;5;28;01mreturn\u001b[39;00m \u001b[38;5;28;43mself\u001b[39;49m\u001b[38;5;241;43m.\u001b[39;49m\u001b[43m_engine\u001b[49m\u001b[38;5;241;43m.\u001b[39;49m\u001b[43mget_loc\u001b[49m\u001b[43m(\u001b[49m\u001b[43mcasted_key\u001b[49m\u001b[43m)\u001b[49m\n\u001b[0;32m   3622\u001b[0m \u001b[38;5;28;01mexcept\u001b[39;00m \u001b[38;5;167;01mKeyError\u001b[39;00m \u001b[38;5;28;01mas\u001b[39;00m err:\n",
      "File \u001b[1;32m~\\Desktop\\Udemy\\env\\lib\\site-packages\\pandas\\_libs\\index.pyx:136\u001b[0m, in \u001b[0;36mpandas._libs.index.IndexEngine.get_loc\u001b[1;34m()\u001b[0m\n",
      "File \u001b[1;32m~\\Desktop\\Udemy\\env\\lib\\site-packages\\pandas\\_libs\\index.pyx:163\u001b[0m, in \u001b[0;36mpandas._libs.index.IndexEngine.get_loc\u001b[1;34m()\u001b[0m\n",
      "File \u001b[1;32mpandas\\_libs\\hashtable_class_helper.pxi:5198\u001b[0m, in \u001b[0;36mpandas._libs.hashtable.PyObjectHashTable.get_item\u001b[1;34m()\u001b[0m\n",
      "File \u001b[1;32mpandas\\_libs\\hashtable_class_helper.pxi:5206\u001b[0m, in \u001b[0;36mpandas._libs.hashtable.PyObjectHashTable.get_item\u001b[1;34m()\u001b[0m\n",
      "\u001b[1;31mKeyError\u001b[0m: 0",
      "\nThe above exception was the direct cause of the following exception:\n",
      "\u001b[1;31mKeyError\u001b[0m                                  Traceback (most recent call last)",
      "Input \u001b[1;32mIn [63]\u001b[0m, in \u001b[0;36m<cell line: 1>\u001b[1;34m()\u001b[0m\n\u001b[1;32m----> 1\u001b[0m \u001b[43mdata\u001b[49m\u001b[43m[\u001b[49m\u001b[38;5;241;43m0\u001b[39;49m\u001b[43m]\u001b[49m\n",
      "File \u001b[1;32m~\\Desktop\\Udemy\\env\\lib\\site-packages\\pandas\\core\\frame.py:3505\u001b[0m, in \u001b[0;36mDataFrame.__getitem__\u001b[1;34m(self, key)\u001b[0m\n\u001b[0;32m   3503\u001b[0m \u001b[38;5;28;01mif\u001b[39;00m \u001b[38;5;28mself\u001b[39m\u001b[38;5;241m.\u001b[39mcolumns\u001b[38;5;241m.\u001b[39mnlevels \u001b[38;5;241m>\u001b[39m \u001b[38;5;241m1\u001b[39m:\n\u001b[0;32m   3504\u001b[0m     \u001b[38;5;28;01mreturn\u001b[39;00m \u001b[38;5;28mself\u001b[39m\u001b[38;5;241m.\u001b[39m_getitem_multilevel(key)\n\u001b[1;32m-> 3505\u001b[0m indexer \u001b[38;5;241m=\u001b[39m \u001b[38;5;28;43mself\u001b[39;49m\u001b[38;5;241;43m.\u001b[39;49m\u001b[43mcolumns\u001b[49m\u001b[38;5;241;43m.\u001b[39;49m\u001b[43mget_loc\u001b[49m\u001b[43m(\u001b[49m\u001b[43mkey\u001b[49m\u001b[43m)\u001b[49m\n\u001b[0;32m   3506\u001b[0m \u001b[38;5;28;01mif\u001b[39;00m is_integer(indexer):\n\u001b[0;32m   3507\u001b[0m     indexer \u001b[38;5;241m=\u001b[39m [indexer]\n",
      "File \u001b[1;32m~\\Desktop\\Udemy\\env\\lib\\site-packages\\pandas\\core\\indexes\\base.py:3623\u001b[0m, in \u001b[0;36mIndex.get_loc\u001b[1;34m(self, key, method, tolerance)\u001b[0m\n\u001b[0;32m   3621\u001b[0m     \u001b[38;5;28;01mreturn\u001b[39;00m \u001b[38;5;28mself\u001b[39m\u001b[38;5;241m.\u001b[39m_engine\u001b[38;5;241m.\u001b[39mget_loc(casted_key)\n\u001b[0;32m   3622\u001b[0m \u001b[38;5;28;01mexcept\u001b[39;00m \u001b[38;5;167;01mKeyError\u001b[39;00m \u001b[38;5;28;01mas\u001b[39;00m err:\n\u001b[1;32m-> 3623\u001b[0m     \u001b[38;5;28;01mraise\u001b[39;00m \u001b[38;5;167;01mKeyError\u001b[39;00m(key) \u001b[38;5;28;01mfrom\u001b[39;00m \u001b[38;5;21;01merr\u001b[39;00m\n\u001b[0;32m   3624\u001b[0m \u001b[38;5;28;01mexcept\u001b[39;00m \u001b[38;5;167;01mTypeError\u001b[39;00m:\n\u001b[0;32m   3625\u001b[0m     \u001b[38;5;66;03m# If we have a listlike key, _check_indexing_error will raise\u001b[39;00m\n\u001b[0;32m   3626\u001b[0m     \u001b[38;5;66;03m#  InvalidIndexError. Otherwise we fall through and re-raise\u001b[39;00m\n\u001b[0;32m   3627\u001b[0m     \u001b[38;5;66;03m#  the TypeError.\u001b[39;00m\n\u001b[0;32m   3628\u001b[0m     \u001b[38;5;28mself\u001b[39m\u001b[38;5;241m.\u001b[39m_check_indexing_error(key)\n",
      "\u001b[1;31mKeyError\u001b[0m: 0"
     ]
    }
   ],
   "source": []
  },
  {
   "cell_type": "code",
   "execution_count": null,
   "id": "37621d50",
   "metadata": {},
   "outputs": [],
   "source": []
  }
 ],
 "metadata": {
  "kernelspec": {
   "display_name": "Python 3 (ipykernel)",
   "language": "python",
   "name": "python3"
  },
  "language_info": {
   "codemirror_mode": {
    "name": "ipython",
    "version": 3
   },
   "file_extension": ".py",
   "mimetype": "text/x-python",
   "name": "python",
   "nbconvert_exporter": "python",
   "pygments_lexer": "ipython3",
   "version": "3.9.12"
  }
 },
 "nbformat": 4,
 "nbformat_minor": 5
}
